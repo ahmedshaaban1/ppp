{
 "cells": [
  {
   "cell_type": "code",
   "execution_count": 36,
   "metadata": {},
   "outputs": [
    {
     "name": "stdout",
     "output_type": "stream",
     "text": [
      "import click\r\n",
      "\r\n",
      "def fibonacci(N):\r\n",
      "    if N < 2:\r\n",
      "        return N\r\n",
      "\r\n",
      "    return fibonacci(N - 2) + fibonacci(N - 1)\r\n",
      "\r\n",
      "@click.command()\r\n",
      "@click.option(\"-l\", default=False, is_flag=True)\r\n",
      "@click.argument('n', type=click.INT)\r\n",
      "def main(n, l):\r\n",
      "    if l:\r\n",
      "        for i in range(n):\r\n",
      "            print(\"The fibonacci number for '{}' is {}\".format(\r\n",
      "                i, fibonacci(i)))\r\n",
      "\r\n",
      "    print(\"The fibonacci number for '{}' is {}\".format(\r\n",
      "        n, fibonacci(n)))\r\n",
      "\r\n",
      "if __name__ == \"__main__\":\r\n",
      "    main()\r\n"
     ]
    }
   ],
   "source": [
    "!cat ../fib.py"
   ]
  },
  {
   "cell_type": "code",
   "execution_count": 37,
   "metadata": {},
   "outputs": [
    {
     "data": {
      "text/plain": [
       "2178309"
      ]
     },
     "execution_count": 37,
     "metadata": {},
     "output_type": "execute_result"
    }
   ],
   "source": [
    "from fib import fibonacci\n",
    "fibonacci(32)"
   ]
  },
  {
   "cell_type": "code",
   "execution_count": 38,
   "metadata": {},
   "outputs": [
    {
     "name": "stdout",
     "output_type": "stream",
     "text": [
      "The fibonacci number for '32' is 2178309\r\n"
     ]
    }
   ],
   "source": [
    "!fib 32"
   ]
  },
  {
   "cell_type": "code",
   "execution_count": 39,
   "metadata": {},
   "outputs": [
    {
     "name": "stdout",
     "output_type": "stream",
     "text": [
      "The fibonacci number for '0' is 0\r\n",
      "The fibonacci number for '1' is 1\r\n",
      "The fibonacci number for '2' is 1\r\n",
      "The fibonacci number for '3' is 2\r\n",
      "The fibonacci number for '4' is 3\r\n",
      "The fibonacci number for '5' is 5\r\n",
      "The fibonacci number for '6' is 8\r\n",
      "The fibonacci number for '7' is 13\r\n",
      "The fibonacci number for '8' is 21\r\n",
      "The fibonacci number for '9' is 34\r\n",
      "The fibonacci number for '10' is 55\r\n",
      "The fibonacci number for '11' is 89\r\n",
      "The fibonacci number for '12' is 144\r\n",
      "The fibonacci number for '13' is 233\r\n",
      "The fibonacci number for '14' is 377\r\n",
      "The fibonacci number for '15' is 610\r\n",
      "The fibonacci number for '16' is 987\r\n",
      "The fibonacci number for '17' is 1597\r\n",
      "The fibonacci number for '18' is 2584\r\n",
      "The fibonacci number for '19' is 4181\r\n",
      "The fibonacci number for '20' is 6765\r\n"
     ]
    }
   ],
   "source": [
    "!fib -l 20"
   ]
  },
  {
   "cell_type": "markdown",
   "metadata": {},
   "source": [
    "## Subprocess - a poor man's multiprocessing\n",
    "\n",
    "The [subprocess](https://docs.python.org/3/library/subprocess.html#module-subprocess) module allows you to spawn new processes, connect to their input/output/error pipes, and obtain their return codes. Subprocess is a built in module,  you should not need to install it.  Simply ```import python```\n",
    "\n",
    "**subprocess allows you to run shell commands from python**"
   ]
  },
  {
   "cell_type": "code",
   "execution_count": null,
   "metadata": {
    "collapsed": true
   },
   "outputs": [],
   "source": [
    "import subprocess"
   ]
  },
  {
   "cell_type": "markdown",
   "metadata": {},
   "source": [
    "subprocess.check_output(...) allows you to run a command. It returns the output as bytes."
   ]
  },
  {
   "cell_type": "code",
   "execution_count": 31,
   "metadata": {},
   "outputs": [
    {
     "data": {
      "text/plain": [
       "b'bin\\nboot\\ndev\\netc\\nhome\\nlib\\nlib64\\nlost+found\\nmedia\\nmnt\\nnotebooks\\nopt\\nproc\\nrivendell\\nroot\\nrun\\nsbin\\nsqldata\\nsrv\\nsys\\ntmp\\nusr\\nvar\\n'"
      ]
     },
     "execution_count": 31,
     "metadata": {},
     "output_type": "execute_result"
    }
   ],
   "source": [
    "subprocess.check_output([\"ls\", \"/\"])"
   ]
  },
  {
   "cell_type": "markdown",
   "metadata": {},
   "source": [
    "### A few things to note:\n",
    "\n",
    "+ In Python 3 b'...' means the return value is bytes. Python 2 assumed that the return value is a string. This leads to all kinds of problems if what you're working with are actually bytes.\n",
    "+ The output contains a few special characters, specifically '\\n'. '\\n'  means \"carriage return\" and you can treat it like a normal character in Python.\n",
    "\n",
    "Python makes it is easy to convrt bytes into a string (assuming the bytes are a string!). To do so we can add .decode(...) "
   ]
  },
  {
   "cell_type": "code",
   "execution_count": 32,
   "metadata": {},
   "outputs": [
    {
     "data": {
      "text/plain": [
       "'bin\\nboot\\ndev\\netc\\nhome\\nlib\\nlib64\\nlost+found\\nmedia\\nmnt\\nnotebooks\\nopt\\nproc\\nrivendell\\nroot\\nrun\\nsbin\\nsqldata\\nsrv\\nsys\\ntmp\\nusr\\nvar\\n'"
      ]
     },
     "execution_count": 32,
     "metadata": {},
     "output_type": "execute_result"
    }
   ],
   "source": [
    "subprocess.check_output([\"ls\", \"/\"]).decode('utf-8')"
   ]
  },
  {
   "cell_type": "markdown",
   "metadata": {},
   "source": [
    "We can split up the output "
   ]
  },
  {
   "cell_type": "code",
   "execution_count": 33,
   "metadata": {},
   "outputs": [
    {
     "data": {
      "text/plain": [
       "['bin',\n",
       " 'boot',\n",
       " 'dev',\n",
       " 'etc',\n",
       " 'home',\n",
       " 'lib',\n",
       " 'lib64',\n",
       " 'lost+found',\n",
       " 'media',\n",
       " 'mnt',\n",
       " 'notebooks',\n",
       " 'opt',\n",
       " 'proc',\n",
       " 'rivendell',\n",
       " 'root',\n",
       " 'run',\n",
       " 'sbin',\n",
       " 'sqldata',\n",
       " 'srv',\n",
       " 'sys',\n",
       " 'tmp',\n",
       " 'usr',\n",
       " 'var',\n",
       " '']"
      ]
     },
     "execution_count": 33,
     "metadata": {},
     "output_type": "execute_result"
    }
   ],
   "source": [
    "subprocess.check_output([\"ls\", \"/\"]).decode('utf-8').split(\"\\n\")"
   ]
  },
  {
   "cell_type": "code",
   "execution_count": 34,
   "metadata": {},
   "outputs": [
    {
     "data": {
      "text/plain": [
       "\"The fibonacci number for '20' is 6765\\n\""
      ]
     },
     "execution_count": 34,
     "metadata": {},
     "output_type": "execute_result"
    }
   ],
   "source": [
    "subprocess.check_output([\"fib\", \"20\"]).decode('utf-8')"
   ]
  },
  {
   "cell_type": "code",
   "execution_count": 41,
   "metadata": {},
   "outputs": [
    {
     "data": {
      "text/plain": [
       "[\"The fibonacci number for '0' is 0\",\n",
       " \"The fibonacci number for '1' is 1\",\n",
       " \"The fibonacci number for '2' is 1\",\n",
       " \"The fibonacci number for '3' is 2\",\n",
       " \"The fibonacci number for '4' is 3\",\n",
       " \"The fibonacci number for '5' is 5\",\n",
       " \"The fibonacci number for '6' is 8\",\n",
       " \"The fibonacci number for '7' is 13\",\n",
       " \"The fibonacci number for '8' is 21\",\n",
       " \"The fibonacci number for '9' is 34\",\n",
       " \"The fibonacci number for '10' is 55\",\n",
       " \"The fibonacci number for '11' is 89\",\n",
       " \"The fibonacci number for '12' is 144\",\n",
       " \"The fibonacci number for '13' is 233\",\n",
       " \"The fibonacci number for '14' is 377\",\n",
       " \"The fibonacci number for '15' is 610\",\n",
       " \"The fibonacci number for '16' is 987\",\n",
       " \"The fibonacci number for '17' is 1597\",\n",
       " \"The fibonacci number for '18' is 2584\",\n",
       " \"The fibonacci number for '19' is 4181\",\n",
       " \"The fibonacci number for '20' is 6765\",\n",
       " '']"
      ]
     },
     "execution_count": 41,
     "metadata": {},
     "output_type": "execute_result"
    }
   ],
   "source": [
    "subprocess.check_output([\"fib\", \"-l\", \"20\"]).decode('utf-8').split(\"\\n\")"
   ]
  },
  {
   "cell_type": "code",
   "execution_count": null,
   "metadata": {},
   "outputs": [],
   "source": [
    "p = subprocess.Popen([\"fib\", \"40\"])"
   ]
  }
 ],
 "metadata": {
  "kernelspec": {
   "display_name": "Python 3",
   "language": "python",
   "name": "python3"
  },
  "language_info": {
   "codemirror_mode": {
    "name": "ipython",
    "version": 3
   },
   "file_extension": ".py",
   "mimetype": "text/x-python",
   "name": "python",
   "nbconvert_exporter": "python",
   "pygments_lexer": "ipython3",
   "version": "3.6.1"
  }
 },
 "nbformat": 4,
 "nbformat_minor": 2
}
