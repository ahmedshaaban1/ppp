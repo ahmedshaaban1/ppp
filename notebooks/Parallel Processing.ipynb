{
 "cells": [
  {
   "cell_type": "code",
   "execution_count": null,
   "metadata": {
    "collapsed": true
   },
   "outputs": [],
   "source": [
    "!cat ../fib.py"
   ]
  },
  {
   "cell_type": "code",
   "execution_count": null,
   "metadata": {
    "collapsed": true
   },
   "outputs": [],
   "source": [
    "from fib import fibonacci\n",
    "fibonacci(32)"
   ]
  },
  {
   "cell_type": "code",
   "execution_count": null,
   "metadata": {
    "collapsed": true
   },
   "outputs": [],
   "source": [
    "!fib 32"
   ]
  },
  {
   "cell_type": "code",
   "execution_count": null,
   "metadata": {
    "collapsed": true
   },
   "outputs": [],
   "source": [
    "!fib -l 20"
   ]
  },
  {
   "cell_type": "markdown",
   "metadata": {},
   "source": [
    "## Subprocess - a poor man's multiprocessing\n",
    "\n",
    "The [subprocess](https://docs.python.org/3/library/subprocess.html#module-subprocess) module allows you to spawn new processes, connect to their input/output/error pipes, and obtain their return codes. Subprocess is a built in module,  you should not need to install it.  Simply ```import python```\n",
    "\n",
    "**subprocess allows you to run shell commands from python**"
   ]
  },
  {
   "cell_type": "code",
   "execution_count": null,
   "metadata": {
    "collapsed": true
   },
   "outputs": [],
   "source": [
    "import subprocess"
   ]
  },
  {
   "cell_type": "markdown",
   "metadata": {},
   "source": [
    "subprocess.check_output(...) allows you to run a command. It returns the output as bytes."
   ]
  },
  {
   "cell_type": "code",
   "execution_count": null,
   "metadata": {
    "collapsed": true
   },
   "outputs": [],
   "source": [
    "subprocess.check_output([\"ls\", \"/\"])"
   ]
  },
  {
   "cell_type": "markdown",
   "metadata": {},
   "source": [
    "### A few things to note:\n",
    "\n",
    "+ In Python 3 b'...' means the return value is bytes. Python 2 assumed that the return value is a string. This leads to all kinds of problems if what you're working with are actually bytes.\n",
    "+ The output contains a few special characters, specifically '\\n'. '\\n'  means \"carriage return\" and you can treat it like a normal character in Python.\n",
    "\n",
    "Python makes it is easy to convrt bytes into a string (assuming the bytes are a string!). To do so we can add .decode(...) "
   ]
  },
  {
   "cell_type": "code",
   "execution_count": null,
   "metadata": {
    "collapsed": true
   },
   "outputs": [],
   "source": [
    "subprocess.check_output([\"ls\", \"/\"]).decode('utf-8')"
   ]
  },
  {
   "cell_type": "markdown",
   "metadata": {},
   "source": [
    "We can split up the output "
   ]
  },
  {
   "cell_type": "code",
   "execution_count": null,
   "metadata": {
    "collapsed": true
   },
   "outputs": [],
   "source": [
    "subprocess.check_output([\"ls\", \"/\"]).decode('utf-8').split(\"\\n\")"
   ]
  },
  {
   "cell_type": "markdown",
   "metadata": {},
   "source": [
    "With ```subprocess.check_output(...)``` we can call our ```fib``` executable directly from Python"
   ]
  },
  {
   "cell_type": "code",
   "execution_count": null,
   "metadata": {
    "collapsed": true
   },
   "outputs": [],
   "source": [
    "subprocess.check_output([\"fib\", \"20\"]).decode('utf-8')"
   ]
  },
  {
   "cell_type": "code",
   "execution_count": null,
   "metadata": {
    "collapsed": true
   },
   "outputs": [],
   "source": [
    "subprocess.check_output([\"fib\", \"-l\", \"20\"]).decode('utf-8').split(\"\\n\")"
   ]
  },
  {
   "cell_type": "markdown",
   "metadata": {},
   "source": [
    "subprocess.check_output(...) returns the output.   subprocess.check_call(...) returns the \"return code.\"  This an operating system level 'code'  where 0 is (almost) always good,  and any other number means failure."
   ]
  },
  {
   "cell_type": "code",
   "execution_count": null,
   "metadata": {
    "collapsed": true
   },
   "outputs": [],
   "source": [
    "subprocess.check_call([\"fib\", \"20\"])"
   ]
  },
  {
   "cell_type": "code",
   "execution_count": null,
   "metadata": {
    "collapsed": true
   },
   "outputs": [],
   "source": [
    "subprocess.check_call([\"fib\", \"not\", \"a\", \"command\"])"
   ]
  },
  {
   "cell_type": "markdown",
   "metadata": {},
   "source": [
    "```subprocess.check_output(...)``` and ```subprocess.check_call(...)```\n",
    "are both functions that wrap a lower level function called Popen().  Until now each of the functions in subprocess have pitched their computation to the operating system and waited.  Popen (the 'low-level' API) run's it's process in the background.  "
   ]
  },
  {
   "cell_type": "code",
   "execution_count": null,
   "metadata": {
    "collapsed": true
   },
   "outputs": [],
   "source": [
    "p = subprocess.Popen([\"fib\", \"-l\", \"32\"], stdout=subprocess.PIPE)"
   ]
  },
  {
   "cell_type": "markdown",
   "metadata": {},
   "source": [
    "The process is now running,  but the notebook can execute additional cells,  you are free to go on doing additional work.  You can tell when the process is finished by calling ```p.poll()``` if it returns None it is not finished,  if it returns 0 (the return code)  then it is complete."
   ]
  },
  {
   "cell_type": "code",
   "execution_count": null,
   "metadata": {
    "collapsed": true
   },
   "outputs": [],
   "source": [
    "p.poll() is not None"
   ]
  },
  {
   "cell_type": "markdown",
   "metadata": {},
   "source": [
    "You can get access to the output of the ```stdout``` attribute of the process. But careful!  you can only get that data once! Make sure to put it in a variable if you want to hang onto it."
   ]
  },
  {
   "cell_type": "code",
   "execution_count": null,
   "metadata": {
    "collapsed": true
   },
   "outputs": [],
   "source": [
    "p.stdout.read()"
   ]
  },
  {
   "cell_type": "code",
   "execution_count": null,
   "metadata": {
    "collapsed": true
   },
   "outputs": [],
   "source": [
    "p.stdout.read()"
   ]
  },
  {
   "cell_type": "markdown",
   "metadata": {},
   "source": [
    "Using Popen() it is possible to run as many commands as you want"
   ]
  },
  {
   "cell_type": "code",
   "execution_count": null,
   "metadata": {
    "collapsed": true
   },
   "outputs": [],
   "source": [
    "p1 = subprocess.Popen([\"fib\", \"-l\", \"34\"], stdout=subprocess.PIPE)\n",
    "p2 = subprocess.Popen([\"fib\", \"-l\", \"34\"], stdout=subprocess.PIPE)\n",
    "p3 = subprocess.Popen([\"fib\", \"-l\", \"34\"], stdout=subprocess.PIPE)"
   ]
  },
  {
   "cell_type": "code",
   "execution_count": null,
   "metadata": {
    "collapsed": true
   },
   "outputs": [],
   "source": [
    "p1.poll() == 0 and p2.poll() == 0 and p3.poll() == 0"
   ]
  },
  {
   "cell_type": "markdown",
   "metadata": {},
   "source": [
    "Just for fun,  it is possible to dynamically read the output of a command and print the value.  Unfortunately,  reading like this forces the cell to 'block.'  It is possible to not block, still get output and handle a several processes but that is outside the scope of this presentation.  If you're interested take a look at the built-in module [select](https://docs.python.org/3/library/select.html)  "
   ]
  },
  {
   "cell_type": "code",
   "execution_count": null,
   "metadata": {
    "collapsed": true,
    "scrolled": false
   },
   "outputs": [],
   "source": [
    "p = subprocess.Popen([\"fib\", \"-l\", \"34\"], stdout=subprocess.PIPE)\n",
    "for line in iter(p.stdout.readline, b''):\n",
    "    print(line)"
   ]
  },
  {
   "cell_type": "markdown",
   "metadata": {},
   "source": [
    "## Multiprocessing\n",
    "\n",
    "Multiprocessing gives us many more options over ```subprocess.```  Multiprocessing works with functions,  rather than command line commands - this means we can write a function, pass it arguments, and smear it over a bunch of processors to get things done. "
   ]
  },
  {
   "cell_type": "code",
   "execution_count": null,
   "metadata": {
    "collapsed": true
   },
   "outputs": [],
   "source": [
    "import multiprocessing as mp\n",
    "from fib import fibonacci"
   ]
  },
  {
   "cell_type": "markdown",
   "metadata": {},
   "source": [
    "Pools are a much more convenient way to distribute a function across a number of arguments. "
   ]
  },
  {
   "cell_type": "code",
   "execution_count": null,
   "metadata": {
    "collapsed": true
   },
   "outputs": [],
   "source": [
    "pool = mp.Pool(3)\n",
    "\n",
    "result = pool.apply_async(fibonacci, (32, ))"
   ]
  },
  {
   "cell_type": "code",
   "execution_count": null,
   "metadata": {
    "collapsed": true
   },
   "outputs": [],
   "source": [
    "result"
   ]
  },
  {
   "cell_type": "code",
   "execution_count": null,
   "metadata": {
    "collapsed": true
   },
   "outputs": [],
   "source": [
    "result.get()"
   ]
  },
  {
   "cell_type": "code",
   "execution_count": null,
   "metadata": {
    "collapsed": true
   },
   "outputs": [],
   "source": [
    "pool = mp.Pool(3)\n",
    "jobs = []\n",
    "\n",
    "for value in [32, 33, 34]:\n",
    "    result = pool.apply_async(fibonacci, (value, ))\n",
    "    jobs.append(result)"
   ]
  },
  {
   "cell_type": "code",
   "execution_count": null,
   "metadata": {
    "collapsed": true
   },
   "outputs": [],
   "source": [
    "jobs"
   ]
  },
  {
   "cell_type": "code",
   "execution_count": null,
   "metadata": {
    "collapsed": true
   },
   "outputs": [],
   "source": [
    "[j.get() for j in jobs]"
   ]
  },
  {
   "cell_type": "markdown",
   "metadata": {},
   "source": [
    "The multiprocessing ```map(...)``` function is quite useful. Note that the map function blocks until all "
   ]
  },
  {
   "cell_type": "code",
   "execution_count": null,
   "metadata": {
    "collapsed": true
   },
   "outputs": [],
   "source": [
    "pool = mp.Pool(3)\n",
    "values = pool.map(fibonacci, [34, 34, 34])"
   ]
  },
  {
   "cell_type": "code",
   "execution_count": null,
   "metadata": {
    "collapsed": true
   },
   "outputs": [],
   "source": [
    "values"
   ]
  },
  {
   "cell_type": "markdown",
   "metadata": {},
   "source": [
    "There are a few 'gotchas'  - in particular functions must be importable from the '\\_\\_main\\_\\_' method.  Pratically it means that while the following is possible from a Jupyter Notebook - **it will not work in an ipython interpreter** - it will however work from a script that you run from the command line. This is because the function ```double``` is defined inside the REPL and the proccesses do not have access to it!"
   ]
  },
  {
   "cell_type": "code",
   "execution_count": null,
   "metadata": {
    "collapsed": true
   },
   "outputs": [],
   "source": [
    "def double(x):\n",
    "    return x * x\n",
    "\n",
    "pool = mp.Pool(5)\n",
    "\n",
    "print(pool.map(double, [1, 2, 3]))"
   ]
  },
  {
   "cell_type": "markdown",
   "metadata": {},
   "source": [
    "Multiprocessing provides many mechanisms for sychronising between processes including Queues, Pipes, Locks, Semaphores, Events and shared memory between processes via Values and Arrays. There are interestesting things that allow you to coordinate between processes, but they are also drastically increse the complexity of any program that uses them. Because of this I won't cover them in this presentation. For more information checkout the [multiprocessing](https://docs.python.org/3.6/library/multiprocessing.html) documentation."
   ]
  },
  {
   "cell_type": "markdown",
   "metadata": {},
   "source": [
    "Here is a quick example of using multiprocessing to run a subprocess that returns outputs.  Recall before that ```subprocess.check_output(...)``` 'blocks' until it returns a value (the output of the shell command). By wrapping the subprocess call in a call to ```multiprocessing.map(...)``` we launch each function in its own process, which calls ```subprocess.check_output(...)``` waiting for the output to return.  The entire cell blocks until each of the ```multiprocessing.map(...)``` functions returns. This should only take as long as the _longest_ running function call."
   ]
  },
  {
   "cell_type": "code",
   "execution_count": null,
   "metadata": {
    "collapsed": true
   },
   "outputs": [],
   "source": [
    "import multiprocessing as mp\n",
    "import subprocess\n",
    "\n",
    "def run_fib(N):\n",
    "    return subprocess.check_output([\"fib\", str(N)]).decode('utf-8')\n",
    "\n",
    "pool = mp.Pool(3)\n",
    "\n",
    "pool.map(run_fib, [32, 33, 34])"
   ]
  },
  {
   "cell_type": "markdown",
   "metadata": {},
   "source": [
    "# IPython Parallel\n",
    "\n",
    "To get IPython Parallel up and running we have to start a cluster. The easiest way to do this is by running the following command:\n",
    "\n",
    "```\n",
    "ipcluster start -n 4\n",
    "```\n",
    "\n",
    "The '4' above indicates that we want to have 4 \"engines\"  or \"workers\" This allows us to run the cluster locally, using as many processors as we have available.\n"
   ]
  },
  {
   "cell_type": "code",
   "execution_count": null,
   "metadata": {
    "collapsed": true
   },
   "outputs": [],
   "source": [
    "import ipyparallel as ipp\n",
    "from fib import fibonacci"
   ]
  },
  {
   "cell_type": "markdown",
   "metadata": {},
   "source": [
    "Create a \"Client\""
   ]
  },
  {
   "cell_type": "code",
   "execution_count": null,
   "metadata": {
    "collapsed": true
   },
   "outputs": [],
   "source": [
    "c = ipp.Client()"
   ]
  },
  {
   "cell_type": "code",
   "execution_count": null,
   "metadata": {
    "collapsed": true
   },
   "outputs": [],
   "source": [
    "c.ids"
   ]
  },
  {
   "cell_type": "markdown",
   "metadata": {},
   "source": [
    "Create a Direct View "
   ]
  },
  {
   "cell_type": "code",
   "execution_count": null,
   "metadata": {
    "collapsed": true
   },
   "outputs": [],
   "source": [
    "dview = c[:]"
   ]
  },
  {
   "cell_type": "markdown",
   "metadata": {},
   "source": [
    "Parallel Map\n",
    "\n",
    "explain ```map_sync()```"
   ]
  },
  {
   "cell_type": "code",
   "execution_count": null,
   "metadata": {
    "collapsed": true
   },
   "outputs": [],
   "source": [
    "serial = list(map(fibonacci, range(25)))"
   ]
  },
  {
   "cell_type": "code",
   "execution_count": null,
   "metadata": {
    "collapsed": true
   },
   "outputs": [],
   "source": [
    "parallel = dview.map_sync(fibonacci, range(25))"
   ]
  },
  {
   "cell_type": "code",
   "execution_count": null,
   "metadata": {
    "collapsed": true
   },
   "outputs": [],
   "source": [
    "serial == parallel"
   ]
  },
  {
   "cell_type": "markdown",
   "metadata": {},
   "source": [
    "### Timing map_sync\n",
    "Timing a run of 4 fibonacci numbers,  serial vs. parallel"
   ]
  },
  {
   "cell_type": "code",
   "execution_count": null,
   "metadata": {
    "collapsed": true
   },
   "outputs": [],
   "source": [
    "N = 34"
   ]
  },
  {
   "cell_type": "code",
   "execution_count": null,
   "metadata": {
    "collapsed": true
   },
   "outputs": [],
   "source": [
    "%%timeit -n1 -r1\n",
    "list(map(fibonacci, [N, N, N, N]))"
   ]
  },
  {
   "cell_type": "code",
   "execution_count": null,
   "metadata": {
    "collapsed": true
   },
   "outputs": [],
   "source": [
    "%%timeit -n1 -r1\n",
    "dview.map_sync(fibonacci, [N, N, N, N])"
   ]
  },
  {
   "cell_type": "markdown",
   "metadata": {},
   "source": [
    "### Remote function decorators"
   ]
  },
  {
   "cell_type": "code",
   "execution_count": null,
   "metadata": {
    "collapsed": true
   },
   "outputs": [],
   "source": [
    "@dview.remote(block=True)\n",
    "def remote_fib(N):\n",
    "    from fib import fibonacci\n",
    "    return fibonacci(N)"
   ]
  },
  {
   "cell_type": "markdown",
   "metadata": {},
   "source": [
    "Not what you might expect!"
   ]
  },
  {
   "cell_type": "code",
   "execution_count": null,
   "metadata": {
    "collapsed": true,
    "scrolled": true
   },
   "outputs": [],
   "source": [
    "remote_fib(32)"
   ]
  },
  {
   "cell_type": "markdown",
   "metadata": {},
   "source": [
    "Didn't run ```remote_fib(32)``` on a single worker,  it ran the **same** function on each worker!"
   ]
  },
  {
   "cell_type": "markdown",
   "metadata": {},
   "source": [
    "### Push/Pull"
   ]
  },
  {
   "cell_type": "code",
   "execution_count": null,
   "metadata": {
    "collapsed": true
   },
   "outputs": [],
   "source": [
    "dview['some_var'] = 32"
   ]
  },
  {
   "cell_type": "code",
   "execution_count": null,
   "metadata": {
    "collapsed": true
   },
   "outputs": [],
   "source": [
    "@dview.remote(block=True)\n",
    "def return_some_var():\n",
    "    global some_var\n",
    "    return some_var\n",
    "    \n",
    "return_some_var()"
   ]
  },
  {
   "cell_type": "code",
   "execution_count": null,
   "metadata": {
    "collapsed": true
   },
   "outputs": [],
   "source": [
    "@dview.remote(block=True)\n",
    "def change_some_var():\n",
    "    global some_var\n",
    "    import random\n",
    "    some_var = some_var + random.randint(1, 5)\n",
    "    \n",
    "change_some_var()"
   ]
  },
  {
   "cell_type": "code",
   "execution_count": null,
   "metadata": {
    "collapsed": true
   },
   "outputs": [],
   "source": [
    "dview['some_var']"
   ]
  },
  {
   "cell_type": "markdown",
   "metadata": {},
   "source": [
    "### Syncing imports\n",
    "\n",
    "importing nessisary libraries can be quite annoying if you're defining many functions.  It is possible to sync imports using a context manager."
   ]
  },
  {
   "cell_type": "code",
   "execution_count": null,
   "metadata": {
    "collapsed": true
   },
   "outputs": [],
   "source": [
    "with dview.sync_imports():\n",
    "    from fib import fibonacci\n",
    "    import random"
   ]
  },
  {
   "cell_type": "code",
   "execution_count": null,
   "metadata": {
    "collapsed": true
   },
   "outputs": [],
   "source": [
    "@dview.remote(block=True)\n",
    "def remote_fib_better():\n",
    "    global seed_var\n",
    "    N = seed_var + random.randint(1, 4)\n",
    "\n",
    "    return (N, fibonacci(N))\n"
   ]
  },
  {
   "cell_type": "code",
   "execution_count": null,
   "metadata": {
    "collapsed": true
   },
   "outputs": [],
   "source": [
    "dview['seed_var'] = 25\n",
    "\n",
    "remote_fib_better()"
   ]
  },
  {
   "cell_type": "markdown",
   "metadata": {},
   "source": [
    "### Scatter & Gather"
   ]
  },
  {
   "cell_type": "code",
   "execution_count": null,
   "metadata": {
    "collapsed": true
   },
   "outputs": [],
   "source": [
    "numbers = list(range(32))\n",
    "random.shuffle(numbers)"
   ]
  },
  {
   "cell_type": "code",
   "execution_count": null,
   "metadata": {
    "collapsed": true,
    "scrolled": true
   },
   "outputs": [],
   "source": [
    "numbers"
   ]
  },
  {
   "cell_type": "code",
   "execution_count": null,
   "metadata": {
    "collapsed": true
   },
   "outputs": [],
   "source": [
    "dview.scatter('Ns', numbers)\n",
    "dview['Ns']"
   ]
  },
  {
   "cell_type": "code",
   "execution_count": null,
   "metadata": {
    "collapsed": true
   },
   "outputs": [],
   "source": [
    "@dview.remote(block=True)\n",
    "def scattered_fib():\n",
    "    global Ns\n",
    "    Ns = [fibonacci(n) for n in Ns]\n",
    "    \n",
    "scattered_fib()"
   ]
  },
  {
   "cell_type": "code",
   "execution_count": null,
   "metadata": {
    "collapsed": true,
    "scrolled": true
   },
   "outputs": [],
   "source": [
    "dview.gather('Ns').get()"
   ]
  },
  {
   "cell_type": "markdown",
   "metadata": {},
   "source": [
    "### Magic Commands\n",
    "\n",
    "You must instantiate a ```Client()``` before these commands will work!"
   ]
  },
  {
   "cell_type": "code",
   "execution_count": null,
   "metadata": {
    "collapsed": true
   },
   "outputs": [],
   "source": [
    "%px print(\"Hello there!\")"
   ]
  },
  {
   "cell_type": "code",
   "execution_count": null,
   "metadata": {
    "collapsed": true
   },
   "outputs": [],
   "source": [
    "with dview.sync_imports():\n",
    "    import os"
   ]
  },
  {
   "cell_type": "code",
   "execution_count": null,
   "metadata": {
    "collapsed": true
   },
   "outputs": [],
   "source": [
    "%px print(\"Hello from {}\".format(os.getpid()))"
   ]
  },
  {
   "cell_type": "code",
   "execution_count": null,
   "metadata": {
    "collapsed": true
   },
   "outputs": [],
   "source": [
    "dview.scatter('Ns', numbers)\n",
    "dview['Ns']"
   ]
  },
  {
   "cell_type": "code",
   "execution_count": null,
   "metadata": {
    "collapsed": true
   },
   "outputs": [],
   "source": [
    "%%px\n",
    "from fib import fibonacci\n",
    "outputs = []\n",
    "for i in Ns:\n",
    "    outputs.append(fibonacci(i))"
   ]
  },
  {
   "cell_type": "code",
   "execution_count": null,
   "metadata": {
    "collapsed": true,
    "scrolled": true
   },
   "outputs": [],
   "source": [
    "dview.gather('outputs', block=True)"
   ]
  },
  {
   "cell_type": "markdown",
   "metadata": {},
   "source": [
    "### Running IPython Parallel across multiple computers\n",
    "\n",
    "Running a ipyparallel cluster across multiple computers is a little more complicated.  First, on the same machine you are running the notebook,  you must run:\n",
    "\n",
    "```\n",
    "ipcluster --ip='<machine-ip-here>'\n",
    "```\n",
    "\n",
    "This will create a file in ```~/.ipython/profile_default/security/ipcontroller-engine.json```"
   ]
  },
  {
   "cell_type": "code",
   "execution_count": null,
   "metadata": {
    "collapsed": true
   },
   "outputs": [],
   "source": [
    "!cat ~/.ipython/profile_default/security/ipcontroller-engine.json "
   ]
  },
  {
   "cell_type": "markdown",
   "metadata": {},
   "source": [
    "This needs to be copied into a file on each remote machine at the same location (``` ~/.ipython/profile_default/security/ipcontroller-engine.json```). Then,  on the machine you must run:\n",
    "\n",
    "```\n",
    "ipengine\n",
    "```\n",
    "\n",
    "This should give a little output that looks like the following:\n",
    "\n",
    "```\n",
    "2017-05-10 22:29:27.953 [IPEngineApp] Loading url_file '/home/ubuntu/.ipython/profile_default/se\n",
    "curity/ipcontroller-engine.json'\n",
    "2017-05-10 22:29:27.960 [IPEngineApp] Registering with controller at tcp://172.30.0.39:48491\n",
    "2017-05-10 22:29:28.015 [IPEngineApp] Starting to monitor the heartbeat signal from the hub ever\n",
    "y 3010 ms.\n",
    "2017-05-10 22:29:28.019 [IPEngineApp] Completed registration with id 2\n",
    "```\n",
    "\n",
    "The importaint part is \"Completed registration with id ...\".  Once complete You should be able to load a client,  and distribute functions to the remote machines just as before."
   ]
  },
  {
   "cell_type": "code",
   "execution_count": null,
   "metadata": {
    "collapsed": true
   },
   "outputs": [],
   "source": [
    "client = ipp.Client()"
   ]
  },
  {
   "cell_type": "code",
   "execution_count": null,
   "metadata": {
    "collapsed": true
   },
   "outputs": [],
   "source": [
    "client.ids"
   ]
  },
  {
   "cell_type": "code",
   "execution_count": null,
   "metadata": {
    "collapsed": true
   },
   "outputs": [],
   "source": [
    "dv = client[:]"
   ]
  },
  {
   "cell_type": "code",
   "execution_count": null,
   "metadata": {
    "collapsed": true
   },
   "outputs": [],
   "source": [
    "dv.scatter('Ns', numbers)\n",
    "dv['Ns']"
   ]
  },
  {
   "cell_type": "code",
   "execution_count": null,
   "metadata": {
    "collapsed": true
   },
   "outputs": [],
   "source": [
    "%%px\n",
    "from fib import fibonacci\n",
    "outputs = []\n",
    "for i in Ns:\n",
    "    outputs.append(fibonacci(i))"
   ]
  },
  {
   "cell_type": "code",
   "execution_count": null,
   "metadata": {
    "collapsed": true
   },
   "outputs": [],
   "source": [
    "dv.gather('outputs', block=True)"
   ]
  },
  {
   "cell_type": "code",
   "execution_count": null,
   "metadata": {
    "collapsed": true
   },
   "outputs": [],
   "source": [
    "# Dask thing huh?\n",
    "# executor = client.become_dask(ncores=1)"
   ]
  },
  {
   "cell_type": "markdown",
   "metadata": {},
   "source": [
    "# Celery"
   ]
  },
  {
   "cell_type": "code",
   "execution_count": 1,
   "metadata": {},
   "outputs": [],
   "source": [
    "from celery_example.tasks import fibonacci"
   ]
  },
  {
   "cell_type": "code",
   "execution_count": 7,
   "metadata": {},
   "outputs": [
    {
     "data": {
      "text/plain": [
       "<AsyncResult: 3afbe9f3-2d69-45ca-b110-d972076b7b75>"
      ]
     },
     "execution_count": 7,
     "metadata": {},
     "output_type": "execute_result"
    }
   ],
   "source": [
    "a = fibonacci.delay(30)\n",
    "a"
   ]
  },
  {
   "cell_type": "code",
   "execution_count": 8,
   "metadata": {},
   "outputs": [
    {
     "data": {
      "text/plain": [
       "832040"
      ]
     },
     "execution_count": 8,
     "metadata": {},
     "output_type": "execute_result"
    }
   ],
   "source": [
    "a.get()"
   ]
  },
  {
   "cell_type": "code",
   "execution_count": 12,
   "metadata": {
    "collapsed": true
   },
   "outputs": [
    {
     "data": {
      "text/plain": [
       "[<AsyncResult: 56c5f471-cdca-42ff-a00e-c926cc85a614>,\n",
       " <AsyncResult: 49642e98-e6d5-460f-adb3-2a584a99533b>,\n",
       " <AsyncResult: 24ff74ca-35f4-4f0b-82e0-abecfe0b42da>,\n",
       " <AsyncResult: 142a425b-fd9c-4403-8b1c-5cf51aeceece>,\n",
       " <AsyncResult: a0248ccd-dfbc-4809-afa2-908f9b3e4e57>,\n",
       " <AsyncResult: c71cacac-8f9e-4de9-8fbc-3878a1ce3759>,\n",
       " <AsyncResult: 9f38292d-f830-45f3-ac55-b78d58d9eeea>,\n",
       " <AsyncResult: 6abc1924-d276-4519-9657-5cff7497f161>,\n",
       " <AsyncResult: 718ba744-f056-47a4-b60b-a6273f87f757>,\n",
       " <AsyncResult: e77184a4-aeea-46c1-a596-ababe2fc808e>,\n",
       " <AsyncResult: b184346a-0342-4dc2-9a36-3eb326060547>,\n",
       " <AsyncResult: 7c8436fd-e813-44e6-86d7-54b7d87e9cf6>,\n",
       " <AsyncResult: db5d77e7-b1bf-4684-9684-decaab27835c>,\n",
       " <AsyncResult: 0fa15b1a-5eb6-472c-b616-540cca0dbf2b>,\n",
       " <AsyncResult: 6e9b4255-9e35-4612-82bb-b24b3a657696>,\n",
       " <AsyncResult: 542145c5-2d76-4692-83bb-5df91d5f11b4>,\n",
       " <AsyncResult: 77dedb75-464f-4305-84fa-e7f3cb63203e>,\n",
       " <AsyncResult: e84ec08b-fde8-48d4-8926-49777996a95e>,\n",
       " <AsyncResult: 34b66c5b-1795-4d42-8ec1-8cfb96b8dd7e>,\n",
       " <AsyncResult: 75fb7054-4546-4e4a-958c-547bb355d59c>,\n",
       " <AsyncResult: 28c0bada-e78a-4cf9-8d29-6ce82dc21120>,\n",
       " <AsyncResult: fa9eea88-1bb1-4266-a016-69fe90e986dd>,\n",
       " <AsyncResult: 45ddf9d4-cb3a-4776-a78b-7a16b809d4ae>,\n",
       " <AsyncResult: 3a56abc1-c069-4939-a6df-00e475649b2f>,\n",
       " <AsyncResult: 5c253682-b7d8-4c83-b558-a133a96f5f40>,\n",
       " <AsyncResult: d31dd82c-fa1f-430d-8424-d8dadcd83d2f>,\n",
       " <AsyncResult: c5ebb63c-56c4-4e0a-b660-174138c81ec2>,\n",
       " <AsyncResult: 68a7d997-4147-44ff-b269-c86ce7d5dfee>,\n",
       " <AsyncResult: 2157b918-a35e-4dce-b0a9-bc81349584de>,\n",
       " <AsyncResult: 4009b3b8-358e-40f7-9e31-a7f9feebbc37>,\n",
       " <AsyncResult: 600b0b9a-9572-4edd-bf1d-f01c09cff7cf>,\n",
       " <AsyncResult: 0fcfbba2-dce0-4ffb-b8e6-fd8a67e7f735>,\n",
       " <AsyncResult: c1ee747e-93f3-4daf-9ce7-788ab7716510>,\n",
       " <AsyncResult: 1e41dd5d-a9c0-42b4-b11c-442e564db5a0>,\n",
       " <AsyncResult: e3897263-a624-4723-bf37-b2c726e2ded9>,\n",
       " <AsyncResult: 910e688e-3def-47f6-801d-2e9731dcdd23>,\n",
       " <AsyncResult: a5abf258-4914-4821-9ff3-0db9424486c4>,\n",
       " <AsyncResult: 0fcf6c56-1522-408b-a9f6-2f41898fb928>,\n",
       " <AsyncResult: b1725be7-2bee-49ef-9f5d-3ad9c0540965>,\n",
       " <AsyncResult: 21508219-7604-4b55-bca1-25da9fad141c>,\n",
       " <AsyncResult: 8d0e3610-2aa9-40ed-8ed9-b761d0cf7d3b>,\n",
       " <AsyncResult: 250f55e6-df84-4b55-a862-d717cc3aa062>,\n",
       " <AsyncResult: a04de8c1-ae5f-44fd-91b7-7ac431768bab>,\n",
       " <AsyncResult: ac4e5802-d847-446c-8ad7-d178b9fea7f2>,\n",
       " <AsyncResult: 51fe1938-a957-4905-a59b-5fe7834f4806>,\n",
       " <AsyncResult: 067ce599-b2df-41ec-8f7e-43de38678d76>,\n",
       " <AsyncResult: 27f59057-8728-4f51-8223-d28a7e772769>,\n",
       " <AsyncResult: c1d2d4cd-c294-44ff-99c7-cc45e22fa494>,\n",
       " <AsyncResult: 97a23215-86d1-4a7f-8d74-ecac1321dc1e>,\n",
       " <AsyncResult: bd7d8831-1098-4059-ae03-3be6d63bc1dc>,\n",
       " <AsyncResult: f16513da-e011-4f51-8997-9c3c1e6d21da>,\n",
       " <AsyncResult: b3730cc2-7601-4ed3-9e3b-9515cac1f9e5>,\n",
       " <AsyncResult: 8d18713d-a190-486c-a8ca-f5d37059d7f0>,\n",
       " <AsyncResult: f5ee18ea-a6be-4c00-adb7-78f6896b1421>,\n",
       " <AsyncResult: 5d27e79d-3602-4741-b35a-27a1a2049e93>,\n",
       " <AsyncResult: 5505b938-99f6-4420-9b2b-d9626a96638b>,\n",
       " <AsyncResult: 23e65860-2434-4c01-b706-a2fff2ec0fea>,\n",
       " <AsyncResult: 96e96534-e619-46bf-8676-c3dbbe33c7cb>,\n",
       " <AsyncResult: 6e875b3f-2cda-4766-b775-09a335df465d>,\n",
       " <AsyncResult: 5cbfe548-96ae-474f-a471-fb763b84c519>,\n",
       " <AsyncResult: f6171dd2-19ff-4edf-b8c8-25435ccf7408>,\n",
       " <AsyncResult: d40525c8-e749-4b19-b84c-02ddb7e18fe7>,\n",
       " <AsyncResult: 8117a18c-73fb-4179-8501-5e1c6b9d40db>,\n",
       " <AsyncResult: b9aa72a3-8292-433e-ba78-4d039326294f>,\n",
       " <AsyncResult: d181342c-9d8b-4dd0-b8a3-74f4fc698d7c>,\n",
       " <AsyncResult: fb080538-f442-4155-a150-bd4785f67817>,\n",
       " <AsyncResult: 4d2dfed5-c20f-405c-8951-c72c52abf0ee>,\n",
       " <AsyncResult: f3e38063-31bc-4265-90d4-02984888bf28>,\n",
       " <AsyncResult: 2bbc769c-0e16-47f4-ade6-e89934326555>,\n",
       " <AsyncResult: ea3020a8-48c0-4b44-aeaf-606677e65df1>,\n",
       " <AsyncResult: 5f02bad5-87f6-44b1-b089-38b6f01dbea8>,\n",
       " <AsyncResult: 0beb6eb9-94a4-4651-990b-6dd7c78b2af5>,\n",
       " <AsyncResult: 42be5978-4aa2-4304-ba63-7f4287d99d54>,\n",
       " <AsyncResult: 16f4c77c-b442-472f-a47a-dbff8ae9a10d>,\n",
       " <AsyncResult: b99579b1-3d98-4616-8f12-bcffa478aae6>,\n",
       " <AsyncResult: e0716a81-6783-4ed1-9041-279fd9dc9ed8>,\n",
       " <AsyncResult: 1a82010d-d7e8-4e50-a06d-8d103cc8f1d5>,\n",
       " <AsyncResult: 66d33d79-197d-4467-8b68-5c1cc2130775>,\n",
       " <AsyncResult: 4292423f-ccb4-4778-a5a3-5e7591d44498>,\n",
       " <AsyncResult: 6518952d-ce0f-460d-ae1d-747b965117ac>,\n",
       " <AsyncResult: 48684193-bcb9-4956-8a6c-e74c09a7142b>,\n",
       " <AsyncResult: 6d47cb9d-cc00-48b8-b4c5-e7d2cbd07a8b>,\n",
       " <AsyncResult: 1549e0ec-9ced-4695-a931-137f9de8ac43>,\n",
       " <AsyncResult: 48cfabea-3ffd-4609-b2dc-db3edaa7c50c>,\n",
       " <AsyncResult: a30dca8d-2cfc-4303-a40f-be3715c1a6c5>,\n",
       " <AsyncResult: c1e70106-5825-4fe3-9d16-1d511a96894f>,\n",
       " <AsyncResult: 7e98a804-2b8a-4050-a4c6-48768c85d856>,\n",
       " <AsyncResult: 6d99c2a3-0abc-4b76-bdd4-e0c04a2517bb>,\n",
       " <AsyncResult: dfd12441-9145-4b03-8aae-aa163d23deae>,\n",
       " <AsyncResult: c4ecb81a-aadb-47f1-b943-0630c4843686>,\n",
       " <AsyncResult: 4f73e97a-dd59-47a7-bba6-10e2302c982a>,\n",
       " <AsyncResult: 98fbe163-ee6b-4db3-95d7-5f6986a98b5d>,\n",
       " <AsyncResult: 6e88e06c-ab37-48b5-ae67-ce3016766fe3>,\n",
       " <AsyncResult: 68d020e5-3d77-4930-bbbc-7f4fcf4cec01>,\n",
       " <AsyncResult: 6fe2a1ba-185a-4782-b476-0fabeeed8c2e>,\n",
       " <AsyncResult: 9f6f465c-8532-49ab-90d5-e95c4b5c3119>,\n",
       " <AsyncResult: b651129f-1a75-4c36-a1e7-6245a38453b0>,\n",
       " <AsyncResult: 1722c4f0-ec3d-465e-b08b-2315bd4ef293>,\n",
       " <AsyncResult: d00552c2-11dd-4f30-9621-aaecc1cc4482>,\n",
       " <AsyncResult: b4a0ed10-f8a4-40ca-890c-f19d82e1723e>]"
      ]
     },
     "execution_count": 12,
     "metadata": {},
     "output_type": "execute_result"
    }
   ],
   "source": [
    "import random\n",
    "tasks = [fibonacci.delay(30 + random.randint(1, 5)) for _ in range(100)]\n",
    "tasks"
   ]
  },
  {
   "cell_type": "code",
   "execution_count": 11,
   "metadata": {},
   "outputs": [
    {
     "data": {
      "text/plain": [
       "[None, None, None, None, None, None, None, None, None, None]"
      ]
     },
     "execution_count": 11,
     "metadata": {},
     "output_type": "execute_result"
    }
   ],
   "source": [
    "[t.revoke() for t in tasks]"
   ]
  }
 ],
 "metadata": {
  "kernelspec": {
   "display_name": "Python 3",
   "language": "python",
   "name": "python3"
  },
  "language_info": {
   "codemirror_mode": {
    "name": "ipython",
    "version": 3
   },
   "file_extension": ".py",
   "mimetype": "text/x-python",
   "name": "python",
   "nbconvert_exporter": "python",
   "pygments_lexer": "ipython3",
   "version": "3.6.1"
  }
 },
 "nbformat": 4,
 "nbformat_minor": 2
}
